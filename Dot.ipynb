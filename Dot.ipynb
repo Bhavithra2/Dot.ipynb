{
  "nbformat": 4,
  "nbformat_minor": 0,
  "metadata": {
    "colab": {
      "provenance": []
    },
    "kernelspec": {
      "name": "python3",
      "display_name": "Python 3"
    },
    "language_info": {
      "name": "python"
    }
  },
  "cells": [
    {
      "cell_type": "code",
      "source": [
        "class PasswordGame:\n",
        "    def __init__(self, password, max_attempts=3):\n",
        "        self.password = password\n",
        "        self.max_attempts = max_attempts\n",
        "        self.remaining_attempts = max_attempts\n",
        "        self.door_locked = True\n",
        "\n",
        "    def play(self):\n",
        "        print(\"Welcome to the Password Guessing Game!\")\n",
        "        print(f\"You have {self.max_attempts} attempts to guess the password.\\n\")\n",
        "\n",
        "        while self.remaining_attempts > 0 and self.door_locked:\n",
        "            guess = input(\"Enter your guess: \")\n",
        "\n",
        "            if guess == self.password:\n",
        "                self.door_locked = False\n",
        "                print(\"Congratulations! You've unlocked the door!\")\n",
        "                self.show_dancing_man()\n",
        "            else:\n",
        "                self.remaining_attempts -= 1\n",
        "                if self.remaining_attempts > 0:\n",
        "                    print(f\"Wrong guess. You have {self.remaining_attempts} attempts left.\\n\")\n",
        "                else:\n",
        "                    print(\"Game over! You're out of attempts.\")\n",
        "                    self.show_sad_man()\n",
        "\n",
        "    def show_dancing_man(self):\n",
        "        print(\"\"\"\n",
        "      \\o/\n",
        "        \"\"\")\n",
        "\n",
        "    def show_sad_man(self):\n",
        "        print(\"\"\"\n",
        "   /   O      O   \\\n",
        "\n",
        "        \"\"\")\n",
        "\n",
        "def main():\n",
        "    password = \"secret\"\n",
        "    game = PasswordGame(password)\n",
        "    game.play()\n",
        "\n",
        "if __name__ == \"__main__\":\n",
        "    main()\n"
      ],
      "metadata": {
        "colab": {
          "base_uri": "https://localhost:8080/"
        },
        "id": "gfEfCUO72XSf",
        "outputId": "518c2cf4-df7c-4bf4-e457-0b755474d05e"
      },
      "execution_count": 18,
      "outputs": [
        {
          "output_type": "stream",
          "name": "stdout",
          "text": [
            "Welcome to the Password Guessing Game!\n",
            "You have 3 attempts to guess the password.\n",
            "\n",
            "Enter your guess: 0\n",
            "Wrong guess. You have 2 attempts left.\n",
            "\n",
            "Enter your guess: 1\n",
            "Wrong guess. You have 1 attempts left.\n",
            "\n",
            "Enter your guess: 2\n",
            "Game over! You're out of attempts.\n",
            "\n",
            "   /   O      O   \n",
            "        \n"
          ]
        }
      ]
    },
    {
      "cell_type": "markdown",
      "source": [
        " Question-2 draws a bottle pattern"
      ],
      "metadata": {
        "id": "1UOFwVBC5HAA"
      }
    },
    {
      "cell_type": "code",
      "source": [
        "def draw_bottle(height):\n",
        "    neck_height = height // 3\n",
        "    body_height = height - neck_height\n",
        "    bottle_width = height // 3\n",
        "    for i in range(neck_height):\n",
        "        spaces = ' ' * (bottle_width // 2)\n",
        "        print(spaces + '|' + spaces)\n",
        "    for i in range(body_height):\n",
        "        print('|' + '=' * (bottle_width * 2) + '|')\n",
        "\n",
        "    print('+' + '=' * (bottle_width * 2) + '+')\n",
        "height = 12\n",
        "draw_bottle(height)\n"
      ],
      "metadata": {
        "colab": {
          "base_uri": "https://localhost:8080/"
        },
        "id": "LLqoyhWq5Hk5",
        "outputId": "fd5939ec-cfbe-458a-c15d-d5653a8f8da4"
      },
      "execution_count": 19,
      "outputs": [
        {
          "output_type": "stream",
          "name": "stdout",
          "text": [
            "  |  \n",
            "  |  \n",
            "  |  \n",
            "  |  \n",
            "|========|\n",
            "|========|\n",
            "|========|\n",
            "|========|\n",
            "|========|\n",
            "|========|\n",
            "|========|\n",
            "|========|\n",
            "+========+\n"
          ]
        }
      ]
    },
    {
      "cell_type": "markdown",
      "source": [
        " quiz by answering multiple-choice"
      ],
      "metadata": {
        "id": "Nh6UdRdE5fze"
      }
    },
    {
      "cell_type": "code",
      "source": [
        "class QuizQuestion:\n",
        "    def __init__(self, question, options, correct_answer):\n",
        "        self.question = question\n",
        "        self.options = options\n",
        "        self.correct_answer = correct_answer\n",
        "\n",
        "    def is_correct(self, user_answer):\n",
        "        return user_answer == self.correct_answer\n",
        "\n",
        "\n",
        "class TriviaQuiz:\n",
        "    def __init__(self):\n",
        "        self.questions = []\n",
        "        self.score = 0\n",
        "\n",
        "    def add_question(self, question):\n",
        "        self.questions.append(question)\n",
        "\n",
        "    def play(self):\n",
        "        print(\"Welcome to the Trivia Quiz!\")\n",
        "        for question in self.questions:\n",
        "            print(question.question)\n",
        "            for i, option in enumerate(question.options, start=1):\n",
        "                print(f\"{i}. {option}\")\n",
        "            while True:\n",
        "                user_answer = input(\"Enter the number of your answer: \")\n",
        "                if user_answer.isdigit():\n",
        "                    user_answer = int(user_answer)\n",
        "                    if 1 <= user_answer <= len(question.options):\n",
        "                        break\n",
        "                print(\"Please enter a valid option number.\")\n",
        "            if question.is_correct(user_answer):\n",
        "                print(\"Correct!\\n\")\n",
        "                self.score += 1\n",
        "            else:\n",
        "                print(\"Incorrect.\\n\")\n",
        "        print(f\"You scored {self.score} out of {len(self.questions)}.\")\n",
        "\n",
        "def main():\n",
        "    question1 = QuizQuestion(\"What is the capital of France?\", [\"Berlin\", \"Madrid\", \"Paris\", \"Rome\"], 3)\n",
        "    question2 = QuizQuestion(\"Which planet is known as the 'Red Planet'?\", [\"Mars\", \"Venus\", \"Jupiter\", \"Saturn\"], 1)\n",
        "    question3 = QuizQuestion(\"What is the largest mammal in the world?\", [\"Elephant\", \"Giraffe\", \"Blue Whale\", \"Hippopotamus\"], 3)\n",
        "\n",
        "    quiz = TriviaQuiz()\n",
        "    quiz.add_question(question1)\n",
        "    quiz.add_question(question2)\n",
        "    quiz.add_question(question3)\n",
        "\n",
        "    quiz.play()\n",
        "\n",
        "if __name__ == \"__main__\":\n",
        "    main()\n"
      ],
      "metadata": {
        "colab": {
          "base_uri": "https://localhost:8080/"
        },
        "id": "wYP3dwaJ5rmT",
        "outputId": "dd7f55ef-3e8f-44fd-e830-069e55f76c35"
      },
      "execution_count": 21,
      "outputs": [
        {
          "output_type": "stream",
          "name": "stdout",
          "text": [
            "Welcome to the Trivia Quiz!\n",
            "What is the capital of France?\n",
            "1. Berlin\n",
            "2. Madrid\n",
            "3. Paris\n",
            "4. Rome\n",
            "Enter the number of your answer: 3\n",
            "Correct!\n",
            "\n",
            "Which planet is known as the 'Red Planet'?\n",
            "1. Mars\n",
            "2. Venus\n",
            "3. Jupiter\n",
            "4. Saturn\n",
            "Enter the number of your answer: 1\n",
            "Correct!\n",
            "\n",
            "What is the largest mammal in the world?\n",
            "1. Elephant\n",
            "2. Giraffe\n",
            "3. Blue Whale\n",
            "4. Hippopotamus\n",
            "Enter the number of your answer: 3\n",
            "Correct!\n",
            "\n",
            "You scored 3 out of 3.\n"
          ]
        }
      ]
    },
    {
      "cell_type": "markdown",
      "source": [
        "Core python"
      ],
      "metadata": {
        "id": "TQtu0snK6IWY"
      }
    },
    {
      "cell_type": "code",
      "source": [
        "import random\n",
        "\n",
        "word_list = [\"apple\", \"banana\", \"cherry\", \"date\", \"elderberry\", \"fig\", \"grape\", \"honeydew\", \"kiwi\", \"lemon\"]\n",
        "selected_word = random.choice(word_list)\n",
        "guessed_letters = []\n",
        "max_attempts = 6\n",
        "incorrect_guesses = 0\n",
        "\n",
        "print(\"Welcome to the Word Guessing Game!\")\n",
        "print(f\"I have selected a word. Can you guess it in {max_attempts} attempts?\")\n",
        "print()\n",
        "\n",
        "while True:\n",
        "    display_word = \"\"\n",
        "    for letter in selected_word:\n",
        "        if letter in guessed_letters:\n",
        "            display_word += letter\n",
        "        else:\n",
        "            display_word += \"_\"\n",
        "\n",
        "    print(\"Current word:\", display_word)\n",
        "    print(f\"Incorrect guesses remaining: {max_attempts - incorrect_guesses}\")\n",
        "    print()\n",
        "\n",
        "    if display_word == selected_word:\n",
        "        print(f\"Congratulations! You've guessed the word: {selected_word}\")\n",
        "        break\n",
        "\n",
        "    if incorrect_guesses >= max_attempts:\n",
        "        print(f\"Sorry, you've run out of attempts. The word was: {selected_word}\")\n",
        "        break\n",
        "\n",
        "    guess = input(\"Guess a letter: \").lower()\n",
        "\n",
        "    if len(guess) != 1 or not ('a' <= guess <= 'z'):\n",
        "        print(\"Please enter a single lowercase letter.\")\n",
        "        continue\n",
        "\n",
        "    if guess in guessed_letters:\n",
        "        print(\"You've already guessed that letter.\")\n",
        "    else:\n",
        "        guessed_letters.append(guess)\n",
        "        if guess not in selected_word:\n",
        "            incorrect_guesses += 1\n",
        "            print(\"Incorrect guess!\")\n",
        "\n",
        "print(\"Thank you for playing the Word Guessing Game!\")\n"
      ],
      "metadata": {
        "colab": {
          "base_uri": "https://localhost:8080/"
        },
        "id": "sFt1YsoD6KUP",
        "outputId": "1dc2c4e0-147d-4b07-daa6-d052689c44fe"
      },
      "execution_count": null,
      "outputs": [
        {
          "output_type": "stream",
          "name": "stdout",
          "text": [
            "Welcome to the Word Guessing Game!\n",
            "I have selected a word. Can you guess it in 6 attempts?\n",
            "\n",
            "Current word: __________\n",
            "Incorrect guesses remaining: 6\n",
            "\n",
            "Guess a letter: apple\n",
            "Please enter a single lowercase letter.\n",
            "Current word: __________\n",
            "Incorrect guesses remaining: 6\n",
            "\n",
            "Guess a letter: a\n",
            "Incorrect guess!\n",
            "Current word: __________\n",
            "Incorrect guesses remaining: 5\n",
            "\n",
            "Guess a letter: woo\n",
            "Please enter a single lowercase letter.\n",
            "Current word: __________\n",
            "Incorrect guesses remaining: 5\n",
            "\n"
          ]
        }
      ]
    }
  ]
}